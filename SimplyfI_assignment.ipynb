{
  "nbformat": 4,
  "nbformat_minor": 0,
  "metadata": {
    "colab": {
      "provenance": []
    },
    "kernelspec": {
      "name": "python3",
      "display_name": "Python 3"
    },
    "language_info": {
      "name": "python"
    }
  },
  "cells": [
    {
      "cell_type": "markdown",
      "source": [
        "1.Write a python code for converting integer values to Indian currency notations, without\n",
        "using the currency libraries\n",
        "Example:\n",
        "input: 1504678\n",
        "output: 15,04,678"
      ],
      "metadata": {
        "id": "tq34J-XhFiKu"
      }
    },
    {
      "cell_type": "code",
      "source": [
        "def converter(num):\n",
        "    num = str(num)\n",
        "    output = ''\n",
        "    a = 0\n",
        "\n",
        "    for i in range(len(num)-1,-1,-1):\n",
        "      if a == 3 and i !=0:\n",
        "        output = ',' + output\n",
        "        a = 1\n",
        "      a = a+1\n",
        "\n",
        "      output = num[i] + output\n",
        "\n",
        "\n",
        "    return output\n",
        "\n",
        "num = 1504678\n",
        "print(converter(num))"
      ],
      "metadata": {
        "colab": {
          "base_uri": "https://localhost:8080/",
          "height": 0
        },
        "id": "cQ2cCtoRHUug",
        "outputId": "30349605-c4c0-45eb-86da-e72cc6680bc4"
      },
      "execution_count": 1,
      "outputs": [
        {
          "output_type": "stream",
          "name": "stdout",
          "text": [
            "15,04,678\n"
          ]
        }
      ]
    },
    {
      "cell_type": "markdown",
      "source": [
        "Question 2\n",
        "You won’t get caught if you hide behind someone.”\n",
        "Sang-Woo advises Gi-Hun to hide behind someone to avoid getting shot.\n",
        "Gi-Hun follows Sang-Woo's advice and hides behind Ali, who saved his life earlier. Gi-Hun and Ali\n",
        "both have the same height, K\n",
        ". Many players saw this trick and also started hiding behind Ali.\n",
        "Now, there are N\n",
        "players standing between Gi-Hun and Ali in a straight line, with the ith player having height Hi\n",
        ". Gi-Hun wants to know the minimum number of players who need to get shot so that Ali is visible\n",
        "in his line of sight.\n",
        "Note:\n",
        "• Line of sight is a straight line drawn between the topmost point of two objects. Ali is visible\n",
        "to Gi-Hun if nobody between them crosses this line.\n",
        "• Even if there are some players who have the same height as that of Gi-Hun and Ali, Ali will\n",
        "be visible in Gi-Hun's line of sight.\n",
        "• Gi-Hun and Ali have the same height.\n",
        "Input Format\n",
        "• The first line of input contains a single integer T\n",
        ", denoting the number of test cases. The description of T\n",
        "• test cases follows.\n",
        "• The first line of each test case contains two space-separated integers N and K\n",
        "• , denoting the total number of players between Gi-Hun and Ali and the height of both of\n",
        "them respectively.\n",
        "• The second line of each test case contains N\n",
        "• space-separated integers, denoting the heights of the players between Gi-Hun and Ali.\n",
        "Output Format\n",
        "For each test case, output in a single line the minimum number of players who need to get shot so\n",
        "that Ali is visible in Gi-Hun's line of sight.\n",
        "Constraints\n",
        "• 1≤T≤105\n",
        "\n",
        "• 1≤N≤105\n",
        "• 1≤K≤106\n",
        "• 1≤Hi≤106 for every 1≤i≤N\n",
        "• .\n",
        "• The sum of N across all test cases does not exceed 5⋅105\n",
        "• .\n",
        "Sample Input 1\n",
        "3\n",
        "4 10\n",
        "2 13 4 16\n",
        "5 8\n",
        "9 3 8 8 4\n",
        "4 6\n",
        "1 2 3 4\n",
        "\n",
        "Sample Output 1\n",
        "2\n",
        "1\n",
        "0\n",
        "Explanation\n",
        "Test Case 1: Gi-Hun and Ali have height 10\n",
        ". For Ali to be visible to Gi-Hun, the second person (with height 13) and the fourth person (with\n",
        "height 16) need to get shot. Hence, the minimum number of players who need to get shot is 2\n",
        ".\n",
        "Test Case 2: Gi-Hun and Ali have height 8\n",
        ". For Ali to be visible to Gi-Hun, the first person (with height 9) needs to get shot. Hence, the\n",
        "minimum number of players who need to get shot is 1\n",
        ".\n",
        "Test Case 3: Nobody needs to get shot because everyone is shorter than Gi-Hun and Ali."
      ],
      "metadata": {
        "id": "AWh6wwp2DtBz"
      }
    },
    {
      "cell_type": "code",
      "source": [
        "T = int(input())\n",
        "\n",
        "for i in range(T):\n",
        "\n",
        "\n",
        "   N,K = list(map(int,input().split()))\n",
        "\n",
        "   heights = list(map(int,input().split()))\n",
        "\n",
        "   c = 0\n",
        "\n",
        "   for i in heights:\n",
        "\n",
        "       if i > K:\n",
        "\n",
        "           c+=1\n",
        "\n",
        "   print(c)"
      ],
      "metadata": {
        "colab": {
          "base_uri": "https://localhost:8080/",
          "height": 0
        },
        "id": "nDZ5NGe7lAJU",
        "outputId": "4c4af85a-8bf4-41e8-a556-cdc9888df471"
      },
      "execution_count": 3,
      "outputs": [
        {
          "output_type": "stream",
          "name": "stdout",
          "text": [
            "3\n",
            "4 10\n",
            "2 13 4 16\n",
            "2\n",
            "5 8\n",
            "9 3 8 8 4\n",
            "1\n",
            "4 6\n",
            "1 2 3 4\n",
            "0\n"
          ]
        }
      ]
    }
  ]
}